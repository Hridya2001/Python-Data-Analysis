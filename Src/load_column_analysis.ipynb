{
 "cells": [
  {
   "cell_type": "code",
   "execution_count": null,
   "id": "d7e6bd33-cab2-433d-82d8-08737b7c8c73",
   "metadata": {},
   "outputs": [],
   "source": [
    "import pandas as pd\n",
    "\n",
    "\n",
    "df = pd.read_excel(r\"C:\\Users\\RIGVED UMESH\\OneDrive\\Desktop\\AxionRay_Assignment_Hridya\\Data\\DA -Task 2..xlsx\")\n",
    "# print(df.head())\n",
    "# print(\"Columns & Data types:/n\", df.dtypes)\n",
    "\n",
    "\n",
    "\n",
    "\n",
    "for col in df.columns:\n",
    "    print(f\"\\nColumn: {col}\")\n",
    "    print(f\"Data Type: {df[col].dtype}\")\n",
    "    print(f\"Unique Values: {df[col].unique()}\")\n",
    "    if df[col].dtype in ['int64' , 'float64']:\n",
    "        print(f\"Min: {df[col].min()}\")\n",
    "        print(f\"Max: {df[col].max()}\")\n",
    "        print(f\"Mean: {df[col].mean():.2f}\")\n",
    "        print(f\"Meadian: {df[col].median():.2f}\")\n",
    "    else:\n",
    "        print(f\"Top Values:\\n {df[col].value_counts().head(5)}\")"
   ]
  }
 ],
 "metadata": {
  "language_info": {
   "codemirror_mode": {
    "name": "ipython",
    "version": 3
   },
   "file_extension": ".py",
   "mimetype": "text/x-python",
   "name": "python",
   "nbconvert_exporter": "python",
   "pygments_lexer": "ipython3",
   "version": 3
  }
 },
 "nbformat": 4,
 "nbformat_minor": 2
}
