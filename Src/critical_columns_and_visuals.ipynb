{
 "cells": [
  {
   "cell_type": "code",
   "execution_count": null,
   "id": "d80aad6d-ca46-417a-ae48-28eea9231765",
   "metadata": {},
   "outputs": [],
   "source": [
    "import pandas as pd \n",
    "import matplotlib.pyplot as plt\n",
    "import seaborn as sns\n",
    "\n",
    "df = pd.read_excel(r\"C:\\Users\\RIGVED UMESH\\OneDrive\\Desktop\\AxionRay_Assignment_Hridya\\Data\\task2_cleaned.xlsx\")\n",
    "# print(df.head())\n",
    "\n",
    "\n",
    "# Baesd on the datase, the top 5 critical columns here are \n",
    "#           1. CUSTOMER_VERBATIM (shows what the customer is reporting and identifies recurring issues)\n",
    "#           2. ENGINE (helps to analyse reliability of engine type)\n",
    "#           3. REPAIR_DATE (tracks the date of repair which is essential for trend analysis over time)\n",
    "#           4. CAUSe_PART_NM (reveals which part of the vehicle fails frequenty)\n",
    "#           5. TOTAL_COST (measure the financial imapct of the repair)\n",
    "\n",
    "\n",
    "plt.figure(figsize=(10,6))\n",
    "sns.countplot(data=df, x= 'ENGINE', order= df['ENGINE'].value_counts().index)\n",
    "plt.title('Number of repairs by Engine type')\n",
    "plt.xticks(rotation=45)\n",
    "plt.show()\n",
    "\n",
    "top_complaints = df['CUSTOMER_VERBATIM'].value_counts().head(10)\n",
    "plt.figure(figsize=(12,6))\n",
    "sns.barplot(x=top_complaints.values, y=top_complaints.index, palette= 'viridis')\n",
    "plt.title('Top 10 Customer Complaints')\n",
    "plt.xlabel('Count')\n",
    "plt.ylabel('Costumer Complaints')\n",
    "plt.show()\n",
    "\n",
    "df['REPAIR_DATE'] = pd.to_datetime(df['REPAIR_DATE'])\n",
    "repairs_per_month = df.groupby(df['REPAIR_DATE'].dt.to_period('M')).size()\n",
    "repairs_per_month.plot(kind='line', figsize=(12,5), marker='o')\n",
    "plt.title('Repair over Month')\n",
    "plt.xlabel('Month')\n",
    "plt.ylabel('Number of Repairs')\n",
    "plt.grid(True)\n",
    "plt.show()"
   ]
  }
 ],
 "metadata": {
  "language_info": {
   "codemirror_mode": {
    "name": "ipython",
    "version": 3
   },
   "file_extension": ".py",
   "mimetype": "text/x-python",
   "name": "python",
   "nbconvert_exporter": "python",
   "pygments_lexer": "ipython3",
   "version": 3
  }
 },
 "nbformat": 4,
 "nbformat_minor": 2
}
