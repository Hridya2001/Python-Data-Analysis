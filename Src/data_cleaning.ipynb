{
 "cells": [
  {
   "cell_type": "code",
   "execution_count": null,
   "id": "a3f74f66-cd29-4f5e-bc50-47499a8380e6",
   "metadata": {},
   "outputs": [],
   "source": [
    "import pandas as pd\n",
    "import numpy as np\n",
    "import os\n",
    "\n",
    "df = pd.read_excel(r\"C:\\Users\\RIGVED UMESH\\OneDrive\\Desktop\\AxionRay_Assignment_Hridya\\Data\\DA -Task 2..xlsx\")\n",
    "df = df.drop_duplicates()\n",
    "num_cols =  df.select_dtypes(include=['int64', 'float64']).columns\n",
    "df[num_cols] = df[num_cols].apply(lambda x: x.fillna(x.median()))\n",
    "cat_cols = df.select_dtypes(include=['object']).columns\n",
    "df[cat_cols] = df[cat_cols].apply(lambda x: x.fillna(x.mode()[0]))\n",
    "\n",
    "\n",
    "for col in cat_cols:\n",
    "    df[col] = df[col].astype(str).str.strip().str.capitalize()\n",
    "\n",
    "for col in num_cols:\n",
    "    df[col] = pd.to_numeric(df[col], errors='coerce')\n",
    "    df[num_cols] = df[num_cols].apply(lambda x: x.fillna(x.median()))\n",
    "for col in num_cols:\n",
    "    lower = df[col].quantile(0.05)\n",
    "    upper = df[col].quantile(0.95)\n",
    "    df[col] = df[col].clip(lower, upper)\n",
    "\n",
    "\n",
    "df.to_excel(r\"C:\\Users\\RIGVED UMESH\\OneDrive\\Desktop\\AxionRay_Assignment_Hridya\\Data\\task2_cleaned.xlsx\", index=False)\n",
    "print('data cleaning completed. cleaned file saved!')"
   ]
  }
 ],
 "metadata": {
  "language_info": {
   "codemirror_mode": {
    "name": "ipython",
    "version": 3
   },
   "file_extension": ".py",
   "mimetype": "text/x-python",
   "name": "python",
   "nbconvert_exporter": "python",
   "pygments_lexer": "ipython3",
   "version": 3
  }
 },
 "nbformat": 4,
 "nbformat_minor": 2
}
